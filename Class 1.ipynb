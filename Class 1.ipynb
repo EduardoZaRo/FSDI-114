{
 "cells": [
  {
   "cell_type": "code",
   "execution_count": 1,
   "id": "69e44f98-76bd-406e-91ea-5679195e1ef3",
   "metadata": {},
   "outputs": [
    {
     "name": "stdout",
     "output_type": "stream",
     "text": [
      "h\n",
      "e\n",
      "l\n",
      "l\n",
      "o\n",
      ",\n",
      " \n",
      "w\n",
      "o\n",
      "r\n",
      "l\n",
      "d\n"
     ]
    }
   ],
   "source": [
    "for char in \"hello, world\":\n",
    "    print(char)"
   ]
  },
  {
   "cell_type": "markdown",
   "id": "1f3938d2-3b4c-4df6-8efb-8f7e4edf2a3e",
   "metadata": {},
   "source": [
    "# Problem 1\n",
    "## Anagram check\n",
    "### Given two strings as parameters, generate a function that returns True if these are anagrams of each other. False otherwise.\n",
    "\n",
    "### Criteria\n",
    "Two strings are anagrams of each other if all conditions below are met:\n",
    "1. They must use the same exact letter, the same amount of time\n",
    "2. They must be of equal length\n",
    "\n",
    "```\n",
    "Examples:\n",
    "1. cars and scar\n",
    "2. heart and earth\n",
    "3. star and rats\n",
    "```"
   ]
  },
  {
   "cell_type": "code",
   "execution_count": 43,
   "id": "bac6a4e7-13a9-43dc-a7b1-516d1d4ab5d3",
   "metadata": {},
   "outputs": [
    {
     "name": "stdout",
     "output_type": "stream",
     "text": [
      "True\n",
      "[1, 4, 9, 16, 25, 36, 49, 64, 81]\n",
      "99 c\n",
      "School Master , The Classroom are anagrams? True\n"
     ]
    }
   ],
   "source": [
    "#Poor solution\n",
    "def anagram_check(string1, string2):\n",
    "    return sorted(string1) == sorted(string2)\n",
    "print(anagram_check(\"cars\", \"scar\"))\n",
    "\n",
    "#Bad: avoid syntatic sugar and  \"clever\" solutions\n",
    "x = [number**2 for number in range(1,10)]\n",
    "print(x) \n",
    "\n",
    "lower_case_c_ascii_code = ord(\"C\") + 32\n",
    "upper_case_c = chr(lower_case_c_ascii_code)\n",
    "print(lower_case_c_ascii_code, upper_case_c)\n",
    "\n",
    "'''\n",
    "Pseudocode\n",
    "\n",
    "define function with parameters str1 and str2 (of type string):\n",
    "    str1 = str1 in lower case\n",
    "    str2 = str2 in lower case\n",
    "    str1 = str1 without spaces\n",
    "    str2 = str2 without spaces\n",
    "    if str1 and str2 are not equal in length:\n",
    "        return False\n",
    "        \n",
    "    declare 2 dicts: dict1, dict2\n",
    "    for letter in str1:\n",
    "         if (letter < 'a' or letter > 'z') and (letter < 'A' or letter > 'Z'):\n",
    "             continue #discard another weird chars\n",
    "        if letter not in dict1:\n",
    "            dict1[letter] = 0\n",
    "        dict1[letter] += 1\n",
    "    for letter in str2:\n",
    "         if (letter < 'a' or letter > 'z') and (letter < 'A' or letter > 'Z'):\n",
    "             continue #discard another weird chars\n",
    "        if letter not in dict2:\n",
    "            dict2[letter] = 0\n",
    "        dict2[letter] += 1\n",
    "        \n",
    "    return dict1 == dict2 \n",
    "    #since dicts dont have order, if keys and values are not the same then is not\n",
    "    #an anagram\n",
    "'''\n",
    "def is_anagram(string_1, string_2):\n",
    "    def analyze_str(dict, str): #think in a better name hehe\n",
    "        for letter  in  str:\n",
    "            letter = chr(ord(letter) + 32) if letter >= 'A' and letter <= 'Z' else letter #To lower\n",
    "            if (letter < 'a' or letter > 'z'): #Discard non letter characters, including spaces\n",
    "                continue\n",
    "            if letter not in dict: #New letter?\n",
    "                dict[letter] = 0 #Init letter with 0\n",
    "            dict[letter] += 1 #Add 1 to number of ocurrences\n",
    "    str1, str2 =  {}, {}\n",
    "    analyze_str(str1, string_1)\n",
    "    analyze_str(str2, string_2)\n",
    "    return str1 == str2\n",
    "    \n",
    "test_str_1 = \"School Master\"\n",
    "test_str_2 = \"The Classroom\"\n",
    "print(test_str_1,\",\", test_str_2, \"are anagrams?\",is_anagram(test_str_1, test_str_2))"
   ]
  },
  {
   "cell_type": "code",
   "execution_count": null,
   "id": "847ecf8c-0d21-4c30-bf54-222467658d03",
   "metadata": {},
   "outputs": [],
   "source": []
  }
 ],
 "metadata": {
  "kernelspec": {
   "display_name": "Python 3 (ipykernel)",
   "language": "python",
   "name": "python3"
  },
  "language_info": {
   "codemirror_mode": {
    "name": "ipython",
    "version": 3
   },
   "file_extension": ".py",
   "mimetype": "text/x-python",
   "name": "python",
   "nbconvert_exporter": "python",
   "pygments_lexer": "ipython3",
   "version": "3.10.12"
  }
 },
 "nbformat": 4,
 "nbformat_minor": 5
}
